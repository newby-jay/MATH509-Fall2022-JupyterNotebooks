{
 "cells": [
  {
   "cell_type": "code",
   "execution_count": 3,
   "metadata": {},
   "outputs": [
    {
     "name": "stdout",
     "output_type": "stream",
     "text": [
      "Populating the interactive namespace from numpy and matplotlib\n"
     ]
    }
   ],
   "source": [
    "%pylab inline\n",
    "%config InlineBackend.figure_format = 'retina'\n",
    "from ipywidgets import interact\n",
    "import scipy.stats as stats\n",
    "import pandas as pd\n",
    "import pymc3 as pm ## If this line gives you an error, uncomment and execute the following cell\n",
    "import arviz as az\n",
    "import seaborn as sns"
   ]
  },
  {
   "cell_type": "markdown",
   "metadata": {},
   "source": [
    "# Q1\n",
    "## A\n",
    "Using the code in the week 8 notebook, construct a 2D Markov chain (for $x_t$ and $y_t$) that has the **marginal** stationary density (for $x_t$) given by\n",
    "$$p_{\\infty}(x) = \\frac{1}{\\pi\\sqrt{(1+x)(1-x)}}.$$\n",
    "Your chain should be restricted so that $-1< x_t < 1$. Note that your initial condition should also be restricted accordingly.\n",
    "Construct your chain by specifying the transition density $f(x_t, y_t | x_{t-1}, y_{t-1})$ **without using Metropolis-Hastings**.\n",
    "\n",
    "**Hint: Try creating a chain that moves on the boundary of a circle with radius 1 centered at the origin.**\n",
    "\n",
    "## B\n",
    "Sample 5000 independent chains for 300 steps using an initial condition of your own choosing. Plot trajectories from the first two chains (i.e., plot $y_t$ vs $x_t$ for all $0 \\leq t < 300$).\n",
    "\n",
    "## C\n",
    "Use a histogram plot to show the density of $x_t$ at $t = 10, 50, 100, 300$ (curves only, all on the same graph). Label your axes and make it look nice.\n",
    "\n"
   ]
  },
  {
   "cell_type": "code",
   "execution_count": null,
   "metadata": {},
   "outputs": [],
   "source": []
  },
  {
   "cell_type": "markdown",
   "metadata": {},
   "source": [
    "# Q2\n",
    "Repeat Q1 using Metropolis-Hastings. \n",
    "\n",
    "Create a 2D target density $p(x, y)$ for both $x$ and $y$ that has the marginal density\n",
    "$$p(x) = \\int_{-\\infty}^{\\infty} p(x, y) dy = \\frac{1}{\\pi\\sqrt{(1+x)(1-x)}}.$$\n",
    "(**Note that there is more than one way to do this, you just need one that works.**)\n",
    "\n",
    "Use a Gaussian proposal transition density \n",
    "$$\\hat{x} \\sim \\text{Normal}(x_{t-1}, 0.1), \\quad \\hat{y} \\sim \\text{Normal}(y_{t-1}, 0.1).$$\n",
    "Tune the number of steps and the number of chains as needed to get a good histogram plot of the marginal target density."
   ]
  },
  {
   "cell_type": "code",
   "execution_count": null,
   "metadata": {},
   "outputs": [],
   "source": []
  }
 ],
 "metadata": {
  "kernelspec": {
   "display_name": "Python 3 (ipykernel)",
   "language": "python",
   "name": "python3"
  },
  "language_info": {
   "codemirror_mode": {
    "name": "ipython",
    "version": 3
   },
   "file_extension": ".py",
   "mimetype": "text/x-python",
   "name": "python",
   "nbconvert_exporter": "python",
   "pygments_lexer": "ipython3",
   "version": "3.9.7"
  }
 },
 "nbformat": 4,
 "nbformat_minor": 2
}
