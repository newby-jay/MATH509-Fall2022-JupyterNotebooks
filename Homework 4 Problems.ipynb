{
 "cells": [
  {
   "cell_type": "code",
   "execution_count": null,
   "metadata": {},
   "outputs": [],
   "source": [
    "%pylab inline\n",
    "%config InlineBackend.figure_format = 'retina'\n",
    "from ipywidgets import interact\n",
    "import scipy.stats as stats\n",
    "import pandas as pd\n",
    "import pymc3 as pm ## If this line gives you an error, uncomment and execute the following cell"
   ]
  },
  {
   "cell_type": "code",
   "execution_count": null,
   "metadata": {},
   "outputs": [],
   "source": [
    "# !pip install pymc3"
   ]
  },
  {
   "cell_type": "markdown",
   "metadata": {},
   "source": [
    "# Q1\n",
    "For the model definition below, simulate observed $y$ values from the prior (not the posterior).\n",
    "\\begin{align*}\n",
    "y_i &\\sim \\text{Normal}(\\mu, \\sigma) \\\\\n",
    "\\mu &\\sim \\text{Normal}(0, 10) \\\\\n",
    "\\sigma &\\sim \\text{Exponential}(1)\n",
    "\\end{align*}"
   ]
  },
  {
   "cell_type": "code",
   "execution_count": null,
   "metadata": {},
   "outputs": [],
   "source": []
  },
  {
   "cell_type": "markdown",
   "metadata": {},
   "source": [
    "# Q2\n",
    "Please use the code from the Week 4 notebook and modify it as necessary to answer this question. \n",
    "\n",
    "# A\n",
    "Select out all the rows in the Howell1 data with ages below 18 years of age. If you do it right, you should end up with a new data frame with 192 rows in it.\n",
    "\n",
    "# B\n",
    "Fit a linear regression to these data, using MCMC. Present and interpret the estimates. For every 10 units of increase in weight, how much taller does the model predict a child gets?\n",
    "\n",
    "# C\n",
    "Plot the raw data, with height on the vertical axis and weight on the horizontal axis. Superimpose the mean posterior regression line and 92% interval for the mean. Also superimpose the 92% interval for predicted heights.\n",
    "\n",
    "# D\n",
    "What aspects of the model fit concern you? Describe the kinds of assumptions you would change, if any, to improve the model. You don’t have to write any new code. Just explain what the model appears to be doing a bad job of, and what you hypothesize would be a better model."
   ]
  },
  {
   "cell_type": "code",
   "execution_count": null,
   "metadata": {},
   "outputs": [],
   "source": []
  },
  {
   "cell_type": "markdown",
   "metadata": {},
   "source": [
    "# Q3\n",
    "Please use the code from the Week 4 notebook and modify it as necessary to answer this question. \n",
    "\n",
    "Suppose a colleague of yours, who works on allometry, glances at the practice problems just above. Your colleague exclaims, “That’s silly. Everyone knows that it’s only the logarithm of body weight that scales with height!” Let’s take your colleague’s advice and see what happens.\n",
    "\n",
    "\n",
    "# A\n",
    "Model the relationship between height (cm) and the natural logarithm of weight (log-kg). Use the entire Howell1 data frame, all 544 rows, adults and non-adults. \n",
    "\n",
    "\\begin{align*}\n",
    "    h_{i} &\\sim \\text{Normal}(\\mu_{i}, \\sigma) \\\\\n",
    "    \\mu_{i} &= \\alpha + e^{\\log{\\beta}} \\log(w_i) \\\\\n",
    "    \\alpha &\\sim \\text{Normal}(178, 20) \\\\\n",
    "    \\log(\\beta) & \\sim \\text{Normal}(0, 1) \\\\\n",
    "    \\sigma &\\sim \\text{Uniform}(0, 50)\n",
    "\\end{align*}\n",
    "\n",
    "# B\n",
    "To check the prior, plot 100 sample curves from prior predictive simulations (see Week 4 notebook for examples). Is the prior reasonable? Do you think it should be changed? Why or why not?\n",
    "\n",
    "# C\n",
    "Approximate the posterior distribution using the MCMC approximation (using Pymc3).\n",
    "\n",
    "# D\n",
    "Create a plot with the following information (each is a function of weight)\n",
    "  1. a scatter plot of the data (height vs weight)\n",
    "  2. predicted mean height\n",
    "  3. the 97% interval for the mean height (use `fillbetween`)\n",
    "  4. the 97% interval for posterior predicted heights (use `fillbetween`)\n",
    "  \n",
    "Be sure to label the $x$ and $y$ axis. Make it look nice."
   ]
  },
  {
   "cell_type": "code",
   "execution_count": null,
   "metadata": {},
   "outputs": [],
   "source": []
  }
 ],
 "metadata": {
  "kernelspec": {
   "display_name": "Python 3",
   "language": "python",
   "name": "python3"
  },
  "language_info": {
   "codemirror_mode": {
    "name": "ipython",
    "version": 3
   },
   "file_extension": ".py",
   "mimetype": "text/x-python",
   "name": "python",
   "nbconvert_exporter": "python",
   "pygments_lexer": "ipython3",
   "version": "3.7.3"
  }
 },
 "nbformat": 4,
 "nbformat_minor": 2
}
