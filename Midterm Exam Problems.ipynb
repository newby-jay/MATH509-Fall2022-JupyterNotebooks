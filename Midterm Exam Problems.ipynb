{
 "cells": [
  {
   "cell_type": "code",
   "execution_count": 2,
   "metadata": {
    "colab": {
     "base_uri": "https://localhost:8080/"
    },
    "executionInfo": {
     "elapsed": 605,
     "status": "ok",
     "timestamp": 1665612185975,
     "user": {
      "displayName": "Jay Newby",
      "userId": "15467205112857765885"
     },
     "user_tz": 360
    },
    "id": "qF1WSyDoJLsV",
    "outputId": "f3897433-3007-45c7-96bc-644b0b44ef06"
   },
   "outputs": [
    {
     "name": "stdout",
     "output_type": "stream",
     "text": [
      "Populating the interactive namespace from numpy and matplotlib\n"
     ]
    }
   ],
   "source": [
    "%pylab inline\n",
    "%config InlineBackend.figure_format = 'retina'\n",
    "from ipywidgets import interact\n",
    "import pymc3 as pm\n",
    "import pandas as pd\n",
    "import arviz as az\n",
    "\n",
    "import warnings # the warning spam is pointless and annoying\n",
    "warnings.simplefilter(action=\"ignore\", category=FutureWarning)\n",
    "\n",
    "def credible_interval_from_samples(samples, prob):\n",
    "    \"\"\"`samples` can be an nd array. Assume that all of the dimensions \n",
    "    except for the last index parameters while the last (rightmost) \n",
    "    dimension indexes the samples.\"\"\"\n",
    "    samples_sorted = sort(samples, axis=-1)\n",
    "    N_samples = samples.shape[-1]\n",
    "    index = int(N_samples*(1 - prob)/2)\n",
    "    lower = samples_sorted[..., index]\n",
    "    upper = samples_sorted[..., -index]\n",
    "    return lower, upper"
   ]
  },
  {
   "cell_type": "markdown",
   "metadata": {
    "id": "3omvVlvdJLsZ"
   },
   "source": [
    "# Question 1\n",
    "A lepidopterist contacts you for help in characterizing the movement behaviour of a certain species of butterfly. During daylight hours, these butterflies flutter about seemingly at random, but over time they very slowly migrate, on average, in a roughly north easterly direction. It is very difficult to determine the speed, they say, based on watching them move. They can track the average migration velocity over the timescale of weeks, but they want to know what their daytime migration direction and speed are in this particular region. \n",
    "\n",
    "They tell you that they have been able to use special cameras to track the motion of individual butterflies over approximately two minutes, with positions sampled roughly once per second. They also tell you that the positions are oriented so that $\\pm y$ points north/south and that $\\pm x$ points east/west. After agreeing to help, you receive an email with a CSV file (you can find the file at `Data/butterfly.csv`).\n",
    "\n",
    "# A\n",
    "Load the data from the file `butterfly.csv` in the data folder into a Pandas dataframe. There are 4 columns: `id`, `time`, `x`, and `y`. The positions are all in units of meters, and the times are in units of seconds. \n",
    "\n",
    "The `id` column contains a unique integer for each butterfly. (i.e., the data for the butterfly with `id=1` could be found with `b1 = data[data['id'] == 1]`. Look through the position series of each butterfly and locate any that have been corrupted, improperly formatted, or have incomplete data. Filter out any that you find, and create a new dataframe with the cleaned data.\n",
    "\n",
    "# B\n",
    "  1. Plot the trajectories of all the butterflies $x$ vs $y$. \n",
    "  2. Plot the $x$ and $y$ positions of two butterflies vs time (any two, you pick). Put each plot in a different subplot.\n",
    "  \n",
    "# C\n",
    "Create a new dataframe with the following columns: butterfly ID number and two new columns containing $\\Delta x_t = x_{t} - x_{t-1}$ and $\\Delta y_t = y_{t} - y_{t-1}$. This will be your primary dataset for the remaining parts of the question.\n",
    "\n",
    "# D\n",
    "Plot a probability density function (using a kernel density estimator) for both $\\Delta x$ and $\\Delta y$.  \n",
    "\n",
    "# E \n",
    "Construct a generative model. Your goal will be to characterize the direction and speed of the buterflies. Using the plot from part D, make a guess about what distribution you should use as a model of $\\Delta x$ and $\\Delta y$. You should be able to write down a simple formula for the migration direction and speed as a function of these parameters (there is more than one way this part could be answered, you just need one that works).  \n",
    "\n",
    "# F\n",
    "Propose informative priors for your parameters, create prior predictive plots, and describe the reasoning you used to justify your choices.\n",
    "\n",
    "# G\n",
    "Use MCMC sampling (use 4 chains each with 1000 samples) to estimate the posterior distribution for the direction and speed. Plot the corresponding posterior probability density function for the direction and speed (using two KDE plots). Label the axes and make it look nice."
   ]
  },
  {
   "cell_type": "code",
   "execution_count": null,
   "metadata": {},
   "outputs": [],
   "source": []
  }
 ],
 "metadata": {
  "colab": {
   "collapsed_sections": [],
   "provenance": []
  },
  "kernelspec": {
   "display_name": "Python 3 (ipykernel)",
   "language": "python",
   "name": "python3"
  },
  "language_info": {
   "codemirror_mode": {
    "name": "ipython",
    "version": 3
   },
   "file_extension": ".py",
   "mimetype": "text/x-python",
   "name": "python",
   "nbconvert_exporter": "python",
   "pygments_lexer": "ipython3",
   "version": "3.9.7"
  }
 },
 "nbformat": 4,
 "nbformat_minor": 1
}
