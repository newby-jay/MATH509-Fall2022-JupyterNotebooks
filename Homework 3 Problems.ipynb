{
 "cells": [
  {
   "cell_type": "code",
   "execution_count": null,
   "metadata": {},
   "outputs": [],
   "source": [
    "%pylab inline\n",
    "%config InlineBackend.figure_format = 'retina'\n",
    "from ipywidgets import interact"
   ]
  },
  {
   "cell_type": "markdown",
   "metadata": {},
   "source": [
    "# Question 1\n",
    "Recall the globe tossing model from chapter 2. \n",
    "\n",
    "# A\n",
    "Compute and plot the grid approximate posterior distribution for each of the following sets of observations. In each case, assume a uniform prior for $p$.\n",
    "  1. W,W,W\n",
    "  2. W,W,W,L\n",
    "  3. L,W,W,L,W,W,W\n",
    "\n",
    "# B\n",
    "Now assume a prior for $p$ that is equal to zero when $p < 0.5$ and is a positive constant when $p \\geq 0.5$. Again compute and plot the grid approximate posterior distribution for each of the sets of observations in the problem just above.\n",
    "\n",
    "# C\n",
    "Suppose there are two globes, one for Earth and one for Mars. The Earth globe is 70% covered in water. The Mars globe is 100% land. Further suppose that one of these globes (you don't know which) was tossed in the air and produced a \"land\" observation. Assume that each globe was equally likely to be tossed. Show that the posterior probability that the globe was the Earth, conditional on seeing \"land\" (${\\rm Pr}(\\text{Earth} | \\text{land})$), is 0.23."
   ]
  },
  {
   "cell_type": "code",
   "execution_count": null,
   "metadata": {},
   "outputs": [],
   "source": []
  },
  {
   "cell_type": "markdown",
   "metadata": {},
   "source": [
    "# Question 2\n",
    "Suppose that in a certain region there are two species of polar bear (the two species cannot interbreed). Both are equally common in the wild and live in the same places. They look exactly alike and eat the same food, and there is yet no genetic test capable of telling them apart. They differ however in their family sizes. Species A gives birth to twins 8% of the time, otherwise birthing a single infant. Species B births twins 19% of the time, otherwise birthing singleton infants. Assume these numbers are known with certainty, from many years of field research.\n",
    "\n",
    "# A\n",
    "Now suppose you are managing a captive polar bear breeding program. You have a new female bear of unknown species, and she has just given birth to twins. What is the probability that her next birth will also be twins?\n",
    "\n",
    "# B\n",
    "Now compute the probability that the bear we have is from species A, assuming we have observed only the first birth and that it was twins.\n",
    "\n",
    "# C\n",
    "suppose the same mother bear mother has a second birth and that it is not twins, but a singleton infant. Compute the posterior probability that she is species A.\n"
   ]
  }
 ],
 "metadata": {
  "kernelspec": {
   "display_name": "Python 3",
   "language": "python",
   "name": "python3"
  },
  "language_info": {
   "codemirror_mode": {
    "name": "ipython",
    "version": 3
   },
   "file_extension": ".py",
   "mimetype": "text/x-python",
   "name": "python",
   "nbconvert_exporter": "python",
   "pygments_lexer": "ipython3",
   "version": "3.7.3"
  }
 },
 "nbformat": 4,
 "nbformat_minor": 2
}
